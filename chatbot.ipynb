{
 "cells": [
  {
   "cell_type": "markdown",
   "metadata": {
    "id": "Tce3stUlHN0L"
   },
   "source": [
    "##### healthcare Chatbot"
   ]
  },
  {
   "cell_type": "markdown",
   "metadata": {
    "id": "FKwyTRdwB8aW"
   },
   "source": [
    "## Setup"
   ]
  },
  {
   "cell_type": "code",
   "execution_count": 1,
   "metadata": {
    "id": "RXInneX6xx7c"
   },
   "outputs": [],
   "source": [
    "# !pip install -U -q \"google-generativeai>=0.8.2\""
   ]
  },
  {
   "cell_type": "markdown",
   "metadata": {
    "id": "E7zAD69vE92b",
    "jp-MarkdownHeadingCollapsed": true
   },
   "source": [
    "## Call `generate_content`"
   ]
  },
  {
   "cell_type": "code",
   "execution_count": 14,
   "metadata": {
    "id": "LB2LxPmAB95V"
   },
   "outputs": [],
   "source": [
    "# import os\n",
    "# import google.generativeai as genai\n",
    "\n",
    "# genai.configure(api_key=\"'your_api_key_here'\")\n",
    "\n",
    "# # Create the model\n",
    "# generation_config = {\n",
    "#   \"temperature\": 1,\n",
    "#   \"top_p\": 0.95,\n",
    "#   \"top_k\": 40,\n",
    "#   \"max_output_tokens\": 7192,\n",
    "#   \"response_mime_type\": \"text/plain\",\n",
    "# }\n",
    "\n",
    "# model = genai.GenerativeModel(\n",
    "#   model_name=\"gemini-2.0-flash-exp\",\n",
    "#   generation_config=generation_config,\n",
    "#   system_instruction=\"act as a health expert doctor  that classifies diseases based on patient symptoms,accept patient input in natural language and return the most likely disease classification with relevant medical advice.\\n\",\n",
    "# )\n",
    "\n",
    "# chat_session = model.start_chat(\n",
    "#   history=[\n",
    "#     {\n",
    "#       \"role\": \"user\",\n",
    "#       \"parts\": [\n",
    "#         \"hi\",\n",
    "#       ],\n",
    "#     },\n",
    "#     {\n",
    "#       \"role\": \"model\",\n",
    "#       \"parts\": [\n",
    "#         \"Hello! I'm here to help. Please tell me about your symptoms. The more details you provide, the better I can assist you. Remember, I am an AI and cannot replace a real doctor, so this is for informational purposes only. Please be as specific as possible and let me know things like:\\n\\n*   **What are your symptoms?** (e.g., fever, cough, headache, pain location, etc.)\\n*   **When did they start?** (e.g., yesterday, a few days ago, a week ago)\\n*   **How severe are they?** (e.g., mild, moderate, severe)\\n*   **Are they constant or do they come and go?**\\n*   **Have you had these symptoms before?**\\n*   **Are there any other relevant details?** (e.g., pre-existing conditions, medications you are taking, recent travel, exposure to sick individuals)\\n\\nI look forward to hearing from you so I can try to help!\\n\",\n",
    "#       ],\n",
    "#     },\n",
    "#     {\n",
    "#       \"role\": \"user\",\n",
    "#       \"parts\": [\n",
    "#         \"i have headache and cold feet\",\n",
    "#       ],\n",
    "#     },\n",
    "#     {\n",
    "#       \"role\": \"model\",\n",
    "#       \"parts\": [\n",
    "#         \"Okay, I understand you're experiencing a headache and cold feet. Let's explore some potential causes for these symptoms, keeping in mind that this is not a substitute for a professional medical diagnosis.\\n\\n**Possible Causes and Considerations:**\\n\\n*   **Headache:** Headaches can be caused by a wide variety of factors, ranging from common to more serious.\\n    *   **Tension Headache:** Often described as a tight band around the head. Can be related to stress, dehydration, or muscle tension.\\n    *   **Migraine:** Can be severe, often throbbing, and may be accompanied by sensitivity to light and sound, nausea, and visual disturbances.\\n    *   **Sinus Headache:** Can occur with a sinus infection, resulting in pain and pressure in the face, forehead, and behind the eyes.\\n    *   **Dehydration:** Lack of fluid intake can cause headaches.\\n    *   **Caffeine Withdrawal:** If you regularly consume caffeine and stop suddenly, it can trigger a headache.\\n    *   **Less Common Causes:** Such as high blood pressure, eye strain, or in rare cases, more serious conditions like meningitis.\\n\\n*   **Cold Feet:** Cold feet can also have multiple causes:\\n    *   **Environmental:** Being in a cold environment can cause your feet to get cold.\\n    *   **Poor Circulation:** Reduced blood flow to the extremities can lead to cold feet. This can be due to conditions like peripheral artery disease (PAD), Raynaud's phenomenon, or even just sitting still for too long.\\n    *   **Anemia:** A lack of red blood cells can sometimes cause cold extremities.\\n    *   **Nerve Damage (Neuropathy):** In some cases, nerve damage can affect the sensation of temperature in the feet.\\n    *   **Hypothyroidism:** An underactive thyroid gland can lead to cold intolerance.\\n    *   **Less Common Causes:** Like some autoimmune diseases or medication side effects.\\n\\n**Considering both symptoms together:**\\n\\n*   **Stress/Anxiety:** Both headache and cold feet can be symptoms of stress or anxiety.\\n*   **Dehydration:** Can cause both headache and contribute to poor circulation and thus cold extremities.\\n*   **Poor circulation:** Poor circulation can cause the cold feet while also being a contributing factor to headaches.\\n*  **Infection or Illness:** A mild infection could potentially cause both of these symptoms.\\n\\n**To Help Me Narrow Down the Possibilities, Please Tell Me More:**\\n\\n*   **Headache:**\\n    *   Where exactly is the headache located? (e.g., temples, forehead, back of the head)\\n    *   What does it feel like? (e.g., throbbing, dull, sharp)\\n    *   How severe is the pain on a scale of 1 to 10?\\n    *   Are there any other symptoms with the headache, such as nausea, vomiting, or sensitivity to light/sound?\\n*   **Cold Feet:**\\n    *   Are your feet always cold, or is it just sometimes?\\n    *   Are your toes also cold?\\n    *   Are your feet discolored (pale, blueish)?\\n    *   Do you have any numbness or tingling in your feet?\\n\\n*   **Other General Questions**\\n    *   Have you been stressed recently?\\n    *   Have you had enough to drink today?\\n    *   Have you been exposed to cold temperatures?\\n    *   Do you have any other symptoms?\\n    *   Do you have any known medical conditions?\\n\\n**Medical Advice:**\\n\\n*   **Hydration:** Make sure you are drinking enough water.\\n*   **Rest:** Get adequate rest and sleep.\\n*   **Stress Management:** Consider relaxation techniques if stress may be a factor.\\n*   **Warmth:** Keep your feet warm with socks and shoes.\\n*   **Over-the-counter pain relief:** For your headache, you can try over-the-counter pain relievers like acetaminophen or ibuprofen if appropriate.\\n*   **Monitor Symptoms:** Keep track of your symptoms and if they get worse or do not improve within a few days, it is best to seek medical attention.\\n\\n**When to See a Doctor:**\\n\\n*   If you experience a sudden severe headache.\\n*   If your symptoms worsen or do not improve with self-care.\\n*   If you have any other concerning symptoms such as fever, dizziness, confusion, or numbness/weakness.\\n*   If you are concerned about any of these symptoms.\\n\\nI'm here to help you further based on the additional information you provide. Please let me know!\\n\",\n",
    "#       ],\n",
    "#     },\n",
    "#     {\n",
    "#       \"role\": \"user\",\n",
    "#       \"parts\": [\n",
    "#         \"take information from the immune system book it has test proven results\",\n",
    "#       ],\n",
    "#     },\n",
    "#     {\n",
    "#       \"role\": \"model\",\n",
    "#       \"parts\": [\n",
    "#         \"I understand you're looking for information about the immune system, specifically with \\\"test-proven results,\\\" and how it might relate to your symptoms. While I don't have access to a physical \\\"immune system book,\\\" I can certainly provide information grounded in established scientific research and medical knowledge regarding the immune system's function and how it might be involved in your headache and cold feet. \\n\\nIt's important to note that the immune system is incredibly complex, and while we have a good understanding of many aspects, research is constantly ongoing. The information I provide is based on well-established, peer-reviewed scientific findings. \\n\\n**The Immune System and Your Symptoms**\\n\\nHere's how the immune system could potentially connect to your symptoms of headache and cold feet:\\n\\n*   **Headache and the Immune System:**\\n    *   **Inflammation:** The immune system's response to an infection or injury involves inflammation. This can trigger headaches.\\n        *   **Mechanism:** When the immune system is activated, it releases inflammatory molecules (cytokines). These molecules can cause blood vessels in the brain to dilate, leading to headaches. They can also activate pain receptors.\\n        *   **Test-Proven Results:** Studies have confirmed that elevated levels of inflammatory markers are associated with certain types of headaches, like migraines.\\n    *   **Infection:** If you have a viral or bacterial infection, your immune system will respond.\\n        *   **Mechanism:** This response can cause fever, muscle aches, and yes, headaches, as part of its effort to combat the pathogen.\\n        *   **Test-Proven Results:** Research consistently shows that the body's immune response to infection often includes headache as a common symptom.\\n    *   **Autoimmune Disorders:** In some cases, an overactive immune system may attack the body's own tissues, leading to inflammation and related symptoms, including headaches (though less common as a sole presentation).\\n        *   **Mechanism:** Autoimmune conditions are often associated with specific antibody production and inflammation which can have widespread effect.\\n        *   **Test-Proven Results:** Various autoimmune disorders, tested and classified based on specific antibodies and inflammatory markers, can manifest with a variety of symptoms such as headache.\\n*   **Cold Feet and the Immune System:**\\n    *   **Inflammation and Circulation:** Inflammation caused by immune system activity can sometimes impact circulation.\\n        *   **Mechanism:** Inflammation can affect blood vessel function, potentially causing reduced blood flow to the extremities (like the feet).\\n        *   **Test-Proven Results:** Studies show that certain inflammatory conditions can disrupt blood flow, leading to cold extremities.\\n    *   **Autoimmune Conditions:** Some autoimmune diseases like Lupus or Raynaud's disease directly affect blood vessels, leading to reduced blood flow and cold feet.\\n         *   **Mechanism:** Autoimmune diseases where specific immune cells or antibodies attack blood vessels, causing them to constrict.\\n        *    **Test-Proven Results:** Diagnostic tests that show the presence of particular autoantibodies are used to diagnose and classify these conditions.\\n    *  **Thyroid Issues:** An autoimmune response (such as in Hashimoto's thyroiditis) can affect thyroid function, resulting in cold sensitivity, which can present as cold extremities.\\n        *  **Mechanism:** This can lead to slowed metabolism and poor circulation, affecting thermoregulation.\\n        *  **Test-Proven Results:** Blood tests that measure thyroid hormone levels and specific antibodies are used to diagnose these conditions.\\n\\n**\\\"Test-Proven Results\\\" Examples**\\n\\nHere are some examples of research-backed findings regarding the immune system and your symptoms:\\n\\n1.  **Inflammatory Markers and Migraines:** Blood tests revealing elevated levels of cytokines (like TNF-alpha, IL-1, IL-6) during migraine attacks have been widely documented.\\n2.  **Autoantibodies and Autoimmune Diseases:** Tests like ANA, anti-dsDNA, and other specific autoantibody tests are used to diagnose autoimmune diseases that may have cold feet as part of their symptom presentations.\\n3.  **Infection Markers:** Blood tests showing elevated white blood cell counts or the presence of specific pathogens indicate an infection that is likely triggering an immune response.\\n\\n**Important Considerations**\\n\\n*   **Non-Specific Symptoms:** Headaches and cold feet are very general symptoms and can be caused by many factors that aren't directly related to the immune system.\\n*   **Individual Variation:** Immune system responses vary from person to person. What triggers an immune response in one person may not in another.\\n*   **Complexity:** The immune system has many pathways of action. Isolating the specific cause of your symptoms requires a thorough medical evaluation.\\n\\n**To Help Me Further:**\\n\\nTo provide more specific insights, I still need more information regarding:\\n\\n*   Details on your headache (location, type of pain, accompanying symptoms)\\n*   Details on your cold feet (frequency, discoloration, other sensations)\\n*   Any other relevant symptoms, and duration of all the symptoms.\\n*   Any known medical conditions.\\n\\nI hope this breakdown is helpful. Remember, this is for informational purposes only, and it’s important to consult with a healthcare professional for any health concerns or before making any decisions related to your health.\\n\",\n",
    "#       ],\n",
    "#     },\n",
    "#     {\n",
    "#       \"role\": \"user\",\n",
    "#       \"parts\": [\n",
    "#         \"give me a remody for a headace\",\n",
    "#       ],\n",
    "#     },\n",
    "#     {\n",
    "#       \"role\": \"model\",\n",
    "#       \"parts\": [\n",
    "#         \"Okay, let's discuss some remedies for a headache. It's important to remember that the best approach depends on the type of headache you're experiencing, and what works for one person may not work for another. Also, if you have a severe or persistent headache, it's always important to consult with a doctor to rule out any serious conditions.\\n\\nHere are some common remedies, both home-based and over-the-counter, for headache relief:\\n\\n**Home Remedies and Lifestyle Adjustments:**\\n\\n*   **Hydration:** Dehydration is a common trigger for headaches.\\n    *   **Action:** Drink plenty of water throughout the day. Aim for at least 8 glasses (64 ounces) a day. Consider adding electrolytes if you have been sweating or have been vomiting.\\n    *   **Why it Helps:** Adequate hydration helps maintain proper blood volume and prevents the blood vessels in your head from constricting due to dehydration.\\n*   **Rest and Relaxation:**\\n    *   **Action:** Find a quiet, dark room to rest in. Try relaxation techniques like deep breathing, meditation, or gentle stretching.\\n    *   **Why it Helps:** Stress and tension are common causes of headaches. Reducing tension can ease symptoms.\\n*   **Hot or Cold Compress:**\\n    *   **Action:** Apply a warm compress to the back of your neck or a cold compress to your forehead or temples.\\n    *   **Why it Helps:** The heat can help relax tense muscles, while cold can help numb pain and reduce inflammation.\\n*   **Caffeine (in Moderation):**\\n    *   **Action:** A small amount of caffeine (like a cup of coffee or tea) can sometimes help a headache, especially a tension headache or migraine.\\n    *   **Why it Helps:** Caffeine can constrict blood vessels, which can relieve a headache caused by dilation. However, be cautious, as excessive caffeine or sudden withdrawal can cause headaches as well.\\n*   **Proper Sleep:**\\n    *   **Action:** Aim for 7-9 hours of consistent sleep. Establish a regular sleep routine.\\n    *   **Why it Helps:** Sleep deprivation can be a headache trigger. Consistent sleep patterns help stabilize your body's rhythms and may reduce the likelihood of headaches.\\n*   **Dietary Considerations:**\\n    *   **Action:** Be mindful of foods and drinks that might trigger your headaches. Common triggers include aged cheese, processed meats, alcohol, and chocolate.\\n    *   **Why it Helps:** Avoiding known triggers can help prevent headaches. Keeping a food diary can help you identify potential culprits.\\n*   **Massage:**\\n    *   **Action:** Massage your temples, forehead, neck, and shoulder muscles.\\n    *   **Why it Helps:** Massage can help relieve tension and improve blood flow.\\n*   **Regular Exercise**\\n    *   **Action:** Incorporate moderate exercise into your routine.\\n    *   **Why it helps:** Regular exercise can help with stress reduction and may help to improve circulation.\\n    *   **Caution:** Avoid strenuous exercise during an acute headache as it may worsen the symptoms.\\n\\n**Over-the-Counter Medications:**\\n\\n*   **Acetaminophen (Tylenol):**\\n    *   **Action:** Take as directed on the package.\\n    *   **Why it Helps:** This can help relieve mild to moderate pain and can be suitable for many types of headaches.\\n*   **Nonsteroidal Anti-Inflammatory Drugs (NSAIDs) - Ibuprofen (Advil, Motrin), Naproxen (Aleve):**\\n    *   **Action:** Take as directed on the package.\\n    *   **Why it Helps:** NSAIDs reduce inflammation, which can help relieve certain types of headaches, like tension headaches and migraines. They can also address pain.\\n*   **Combination Medications:**\\n    *   **Action:** Look for medications that combine acetaminophen with NSAIDs or caffeine.\\n    *   **Why it Helps:** They provide a combined effect that can be more effective for some types of headaches.\\n\\n**When to Seek Medical Advice:**\\n\\nWhile these remedies can help for occasional headaches, you should see a doctor if:\\n\\n*   You have a sudden, severe headache.\\n*   The headache is accompanied by fever, stiff neck, confusion, vision changes, numbness, or weakness.\\n*   The headache is getting progressively worse.\\n*   You have a headache after a head injury.\\n*   You are experiencing more frequent headaches than usual.\\n*   Over-the-counter pain relievers are not helping.\\n\\n**Important Note:**\\n* It's always a good idea to check with a doctor or pharmacist before using new medications, especially if you have existing health conditions or take other medications.\\n\\n**To Help Me Recommend More Specific Remedies:**\\n*   **Could you please tell me more about your headache?** Is it throbbing, tight, dull, or sharp? Where exactly is it located? Do you have any other symptoms with it?\\n\\nI hope this provides you with some relief. Remember to listen to your body and seek medical advice when necessary.\\n\",\n",
    "#       ],\n",
    "#     },\n",
    "#   ]\n",
    "# )\n",
    "\n",
    "# response = chat_session.send_message(\"i have a headache and flue what is my disease\")\n",
    "\n",
    "# print(response.text)"
   ]
  },
  {
   "cell_type": "markdown",
   "metadata": {
    "id": "E7zAD69vE92b"
   },
   "source": [
    "## Call `generate_content`"
   ]
  },
  {
   "cell_type": "code",
   "execution_count": 2,
   "metadata": {
    "colab": {
     "base_uri": "https://localhost:8080/",
     "height": 922
    },
    "id": "AXQA8X4YFZ4E",
    "outputId": "e54ad273-0b25-4664-93be-224175b2dd32"
   },
   "outputs": [
    {
     "name": "stdout",
     "output_type": "stream",
     "text": [
      "Doctor Chatbot Response:\n",
      " Okay, a headache and flu-like symptoms can indicate a few possibilities, and it's important to consider the specifics of your experience. Let's break down what could be going on:\n",
      "\n",
      "**Possible Causes:**\n",
      "\n",
      "*   **Influenza (Flu):** This is a common viral respiratory infection. Symptoms often include:\n",
      "    *   Fever (often high)\n",
      "    *   Body aches\n",
      "    *   Fatigue\n",
      "    *   Headache\n",
      "    *   Cough\n",
      "    *   Sore throat\n",
      "    *   Runny or stuffy nose\n",
      "    *   Sometimes nausea or vomiting, especially in children.\n",
      "*   **Common Cold:** Another viral infection, but typically milder than the flu. Symptoms include:\n",
      "    *   Runny or stuffy nose\n",
      "    *   Sneezing\n",
      "    *   Sore throat\n",
      "    *   Mild cough\n",
      "    *   Mild headache\n",
      "    *   Low-grade fever or no fever\n",
      "    *   Fatigue can occur, but usually less severe than with the flu.\n",
      "*   **Other Viral Infections:** Many other viruses can cause similar symptoms, such as:\n",
      "    *   Respiratory Syncytial Virus (RSV)\n",
      "    *   Parainfluenza viruses\n",
      "    *   Adenoviruses\n",
      "    *   COVID-19\n",
      "*   **Sinus Infection (Sinusitis):** An infection of the sinuses can cause:\n",
      "    *   Headache, often focused around the forehead, eyes, or cheeks\n",
      "    *   Nasal congestion and discharge (may be yellow or green)\n",
      "    *   Facial pain or pressure\n",
      "    *   Sometimes fever\n",
      "    *   Cough\n",
      "*   **Dehydration:** If you are not drinking enough fluids, it can lead to:\n",
      "    *   Headache\n",
      "    *   Fatigue\n",
      "    *   Dizziness\n",
      "    *   Muscle aches\n",
      "    *   Dry mouth\n",
      "*   **Tension Headache:** These are common and can be triggered by stress, muscle tension, or dehydration. They usually cause a dull, achy headache across the forehead, temples, or back of the head.\n",
      "\n",
      "**Questions to Consider:**\n",
      "\n",
      "To help narrow down the possibilities, please provide more information about your symptoms, such as:\n",
      "\n",
      "*   **When did your symptoms start?** (Sudden onset or gradual?)\n",
      "*   **What is the nature of your headache?** (Throbbing, dull, pressure, location)\n",
      "*   **Do you have a fever?** If so, what is your temperature?\n",
      "*   **Do you have a cough?** Is it dry or productive (bringing up mucus)?\n",
      "*   **Do you have a sore throat?**\n",
      "*   **Do you have nasal congestion or discharge?** What color is it?\n",
      "*   **Do you have any body aches or fatigue?** How severe are they?\n",
      "*   **Have\n"
     ]
    }
   ],
   "source": [
    "import os\n",
    "import google.generativeai as genai\n",
    "\n",
    "# Load API Key securely\n",
    "API_KEY = \'your_api_key_here'\n",
    "if not API_KEY:\n",
    "    raise ValueError(\"API key not found. Please set the 'GEMINI_API_KEY' environment variable.\")\n",
    "\n",
    "# Configure Gemini API\n",
    "genai.configure(api_key=API_KEY)\n",
    "\n",
    "def create_doctor_chatbot():\n",
    "    \"\"\"Initializes the Gemini doctor chatbot model.\"\"\"\n",
    "    generation_config = {\n",
    "        \"temperature\": 0.8,\n",
    "        \"top_p\": 0.9,\n",
    "        \"top_k\": 40,\n",
    "        \"max_output_tokens\": 600,\n",
    "        \"response_mime_type\": \"text/plain\",\n",
    "    }\n",
    "\n",
    "    model = genai.GenerativeModel(\n",
    "        model_name=\"gemini-2.0-flash-exp\",\n",
    "        generation_config=generation_config,\n",
    "        system_instruction=\"Act as a highly knowledgeable health expert and doctor. Only provide medical advice based on patient symptoms, diagnoses, and relevant health topics. Refuse to engage in any non-medical conversations.\"    )\n",
    "    return model\n",
    "\n",
    "def start_chat_session(model):\n",
    "    \"\"\"Starts a chat session with a predefined greeting.\"\"\"\n",
    "    return model.start_chat(history=[\n",
    "        {\"role\": \"user\", \"parts\": [\"hi\"]},\n",
    "        {\"role\": \"model\", \"parts\": [\n",
    "            \"Hello! I'm here to help. Please describe your symptoms in detail so I can assist you.\"\n",
    "        ]}\n",
    "    ])\n",
    "\n",
    "def get_diagnosis(chat_session, user_input):\n",
    "    \"\"\"Sends user input to the chatbot and retrieves the response.\"\"\"\n",
    "    if not user_input.strip():\n",
    "        return \"Please provide valid symptoms.\"\n",
    "    try:\n",
    "        response = chat_session.send_message(user_input)\n",
    "        return response.text\n",
    "    except Exception as e:\n",
    "        return f\"An error occurred: {str(e)}\"\n",
    "\n",
    "def main():\n",
    "    \"\"\"Main function to interact with the chatbot.\"\"\"\n",
    "    model = create_doctor_chatbot()\n",
    "    chat_session = start_chat_session(model)\n",
    "\n",
    "    # Example user input\n",
    "    user_input = \"I have a headache and flu, what could be the issue?\"\n",
    "    diagnosis = get_diagnosis(chat_session, user_input)\n",
    "    print(\"Doctor Chatbot Response:\\n\", diagnosis)\n",
    "\n",
    "if __name__ == \"__main__\":\n",
    "    main()\n"
   ]
  },
  {
   "cell_type": "code",
   "execution_count": 7,
   "metadata": {
    "colab": {
     "base_uri": "https://localhost:8080/"
    },
    "id": "KCtAH-V4N9fH",
    "outputId": "e0993e8e-95da-4b00-ca31-33eb975fb9a2"
   },
   "outputs": [],
   "source": [
    "# !pip install gradio"
   ]
  },
  {
   "cell_type": "code",
   "execution_count": 6,
   "metadata": {
    "colab": {
     "base_uri": "https://localhost:8080/",
     "height": 645
    },
    "id": "jUMR5FlJEBDY",
    "outputId": "13599053-1706-4b40-8c79-243e9dbfc4fb"
   },
   "outputs": [
    {
     "name": "stdout",
     "output_type": "stream",
     "text": [
      "* Running on local URL:  http://127.0.0.1:7864\n",
      "\n",
      "To create a public link, set `share=True` in `launch()`.\n"
     ]
    },
    {
     "data": {
      "text/html": [
       "<div><iframe src=\"http://127.0.0.1:7864/\" width=\"100%\" height=\"500\" allow=\"autoplay; camera; microphone; clipboard-read; clipboard-write;\" frameborder=\"0\" allowfullscreen></iframe></div>"
      ],
      "text/plain": [
       "<IPython.core.display.HTML object>"
      ]
     },
     "metadata": {},
     "output_type": "display_data"
    }
   ],
   "source": [
    "import os\n",
    "import google.generativeai as genai\n",
    "import gradio as gr\n",
    "\n",
    "# Load API Key securely\n",
    "API_KEY = \'your_api_key_here'"\n",
    "if not API_KEY:\n",
    "    raise ValueError(\"API key not found. Please set the 'GEMINI_API_KEY' environment variable.\")\n",
    "\n",
    "# Configure Gemini API\n",
    "genai.configure(api_key=API_KEY)\n",
    "\n",
    "def create_doctor_chatbot():\n",
    "    \"\"\"Initializes the Gemini doctor chatbot model.\"\"\"\n",
    "    generation_config = {\n",
    "        \"temperature\": 0.8,\n",
    "        \"top_p\": 0.9,\n",
    "        \"top_k\": 40,\n",
    "        \"max_output_tokens\": 600,\n",
    "        \"response_mime_type\": \"text/plain\",\n",
    "    }\n",
    "\n",
    "    model = genai.GenerativeModel(\n",
    "        model_name=\"gemini-2.0-flash-exp\",\n",
    "        generation_config=generation_config,\n",
    "        system_instruction=\"Act as a highly knowledgeable health expert and doctor. classfiy what the patient has based on the input, patient symptoms, diagnoses, and relevant health topics. Refuse to engage in any non-medical conversations.and If the disease not dangerous make the response less words\"    )\n",
    "    return model\n",
    "\n",
    "# Initialize model and session once\n",
    "model = create_doctor_chatbot()\n",
    "chat_session = model.start_chat(history=[\n",
    "    {\"role\": \"user\", \"parts\": [\"hi\"]},\n",
    "    {\"role\": \"model\", \"parts\": [\n",
    "        \"Hello! I'm here to help. Please describe your symptoms in detail so I can assist you.\"\n",
    "    ]}\n",
    "])\n",
    "\n",
    "def diagnose(symptoms):\n",
    "    \"\"\"Gradio-compatible function to get diagnosis.\"\"\"\n",
    "    if not symptoms.strip():\n",
    "        return \"Please provide valid symptoms.\"\n",
    "    try:\n",
    "        response = chat_session.send_message(symptoms)\n",
    "        return response.text\n",
    "    except Exception as e:\n",
    "        return f\"An error occurred: {str(e)}\"\n",
    "\n",
    "# Gradio UI setup\n",
    "iface = gr.Interface(\n",
    "    fn=diagnose,\n",
    "    inputs=gr.Textbox(lines=5, placeholder=\"Describe your symptoms...\"),\n",
    "    outputs=gr.Textbox(label=\"Diagnosis\"),\n",
    "    title=\"Doctor Chatbot\",\n",
    "    description=\"Enter your symptoms to get a possible diagnosis and medical advice.\"\n",
    ")\n",
    "\n",
    "# Launch the Gradio app\n",
    "if __name__ == \"__main__\":\n",
    "    iface.launch()\n"
   ]
  },
  {
   "cell_type": "markdown",
   "metadata": {},
   "source": [
    "I've been feeling nauseous and dizzy, what could be causing this?\n",
    " Symptom Details:\n",
    "\n",
    "I've been feeling this way for about four days now. Along with the dizziness and nausea, I've also had a mild headache and some fatigue. I haven't started any new medications recently, and I haven't had any head injuries. Also, I'm not pregnant.\"\n",
    "\n",
    "----------------------------------------------------------\n",
    "Flu Symptoms:\n",
    "- **Fever:** Yes, I have a fever. My temperature was 38.5°C (101.3°F) last time I checked.  \n",
    "- **Body Aches:** Yes, I feel muscle pain all over, especially in my back and legs.  \n",
    "- **Cough:** I have a dry cough, but it’s not very frequent.  \n",
    "- **Sore Throat:** Yes, my throat feels sore, especially when I swallow.  \n",
    "- **Nasal Congestion:** Yes, my nose is stuffy, and I also have a mild runny nose.  \n",
    "- **Duration of Symptoms:** These symptoms started about three days ago.\n"
   ]
  },
  {
   "cell_type": "code",
   "execution_count": 2,
   "metadata": {},
   "outputs": [
    {
     "name": "stdout",
     "output_type": "stream",
     "text": [
      "Doctor Chatbot Response:\n",
      " Nausea and dizziness can stem from various causes. Some possibilities include:\n",
      "\n",
      "*   **Inner ear problems:** Such as vertigo or labyrinthitis.\n",
      "*   **Dehydration:** Not drinking enough fluids can lead to these symptoms.\n",
      "*   **Low blood sugar:** Especially if you haven't eaten recently.\n",
      "*   **Migraines:** These can sometimes cause nausea and dizziness.\n",
      "*   **Medication side effects:** Some medications can induce these symptoms.\n",
      "*   **Infections:** Such as a viral illness or ear infection.\n",
      "*   **Anxiety:** Can sometimes manifest as physical symptoms like nausea and dizziness.\n",
      "\n",
      "To help me narrow down the potential cause, could you tell me:\n",
      "\n",
      "*   How long have you been experiencing these symptoms?\n",
      "*   Are there any other symptoms you're experiencing?\n",
      "*   Have you recently started any new medications?\n",
      "*   Have you experienced any recent head injuries?\n",
      "*   Are you pregnant?\n",
      "\n",
      "This information will help me better assess the situation.\n",
      "\n"
     ]
    }
   ],
   "source": [
    "import os\n",
    "import google.generativeai as genai\n",
    "\n",
    "# Load API Key securely\n",
    "API_KEY = \'your_api_key_here'\n",
    "if not API_KEY:\n",
    "    raise ValueError(\"API key not found. Please set the 'GEMINI_API_KEY' environment variable.\")\n",
    "\n",
    "# Configure Gemini API\n",
    "genai.configure(api_key=API_KEY)\n",
    "\n",
    "def create_health_expert_chatbot():\n",
    "    \"\"\"Initializes the Gemini health expert chatbot model.\"\"\"\n",
    "    generation_config = {\n",
    "        \"temperature\": 0.8,\n",
    "        \"top_p\": 0.9,\n",
    "        \"top_k\": 40,\n",
    "        \"max_output_tokens\": 600,\n",
    "        \"response_mime_type\": \"text/plain\",\n",
    "    }\n",
    "\n",
    "    # Customizing the model for health-related queries only\n",
    "    model = genai.GenerativeModel(\n",
    "        model_name=\"gemini-2.0-flash-exp\",\n",
    "        generation_config=generation_config,\n",
    "        system_instruction=\"Act as a highly knowledgeable health expert and doctor. classfiy what the patient has based on the input, patient symptoms, diagnoses, and relevant health topics. Refuse to engage in any non-medical conversations.and If the disease not dangerous make the response less words\"\n",
    "    )\n",
    "    return model\n",
    "\n",
    "def start_health_chat_session(model):\n",
    "    \"\"\"Starts a health-focused chat session with a greeting.\"\"\"\n",
    "    return model.start_chat(history=[ \n",
    "        {\"role\": \"user\", \"parts\": [\"Hi, doctor.\"]},\n",
    "        {\"role\": \"model\", \"parts\": [\n",
    "            \"Hello! I am here to help with any health concerns. Please describe your symptoms or medical issue, and I will assist you.\"\n",
    "        ]}\n",
    "    ])\n",
    "\n",
    "def get_health_diagnosis(chat_session, user_input):\n",
    "    \"\"\"Sends user input to the chatbot and retrieves a health-related response.\"\"\"\n",
    "    if not user_input.strip():\n",
    "        return \"Please describe your symptoms clearly so I can provide accurate advice.\"\n",
    "    try:\n",
    "        response = chat_session.send_message(user_input)\n",
    "        return response.text\n",
    "    except Exception as e:\n",
    "        return f\"An error occurred: {str(e)}\"\n",
    "\n",
    "def main():\n",
    "    \"\"\"Main function to interact with the health expert chatbot.\"\"\"\n",
    "    model = create_health_expert_chatbot()\n",
    "    chat_session = start_health_chat_session(model)\n",
    "    \n",
    "    # Example user input\n",
    "    user_input = \"I've been feeling nauseous and dizzy, what could be causing this?\"\n",
    "    diagnosis = get_health_diagnosis(chat_session, user_input)\n",
    "    print(\"Doctor Chatbot Response:\\n\", diagnosis)\n",
    "\n",
    "if __name__ == \"__main__\":\n",
    "    main()\n"
   ]
  },
  {
   "cell_type": "code",
   "execution_count": null,
   "metadata": {},
   "outputs": [],
   "source": []
  }
 ],
 "metadata": {
  "colab": {
   "collapsed_sections": [
    "Tce3stUlHN0L"
   ],
   "name": "aistudio_gemini_prompt_freeform_nofiles.ipynb",
   "provenance": []
  },
  "kernelspec": {
   "display_name": "Python 3 (ipykernel)",
   "language": "python",
   "name": "python3"
  },
  "language_info": {
   "codemirror_mode": {
    "name": "ipython",
    "version": 3
   },
   "file_extension": ".py",
   "mimetype": "text/x-python",
   "name": "python",
   "nbconvert_exporter": "python",
   "pygments_lexer": "ipython3",
   "version": "3.12.6"
  }
 },
 "nbformat": 4,
 "nbformat_minor": 4
}
