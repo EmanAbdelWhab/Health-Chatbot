{
 "cells": [
  {
   "cell_type": "markdown",
   "metadata": {
    "id": "Tce3stUlHN0L"
   },
   "source": [
    "##### healthcare Chatbot"
   ]
  },
  {
   "cell_type": "markdown",
   "metadata": {
    "id": "FKwyTRdwB8aW"
   },
   "source": [
    "## Setup"
   ]
  },
  {
   "cell_type": "code",
   "execution_count": 1,
   "metadata": {
    "id": "RXInneX6xx7c"
   },
   "outputs": [],
   "source": [
    "# !pip install -U -q \"google-generativeai>=0.8.2\""
   ]
  },
  {
   "cell_type": "markdown",
   "metadata": {
    "id": "E7zAD69vE92b",
    "jp-MarkdownHeadingCollapsed": true
   },
   "source": [
    "## Call `generate_content`"
   ]
  },
  {
   "cell_type": "markdown",
   "metadata": {
    "id": "E7zAD69vE92b"
   },
   "source": [
    "## Call `generate_content`"
   ]
  },
  {
   "cell_type": "code",
   "execution_count": null,
   "metadata": {
    "colab": {
     "base_uri": "https://localhost:8080/",
     "height": 922
    },
    "id": "AXQA8X4YFZ4E",
    "outputId": "e54ad273-0b25-4664-93be-224175b2dd32"
   },
   "outputs": [],
   "source": [
    "import os\n",
    "import google.generativeai as genai\n",
    "\n",
    "# Load API Key securely\n",
    "API_KEY = 'your_api_key_here'\n",
    "if not API_KEY:\n",
    "    raise ValueError(\"API key not found. Please set the 'GEMINI_API_KEY' environment variable.\")\n",
    "\n",
    "# Configure Gemini API\n",
    "genai.configure(api_key=API_KEY)\n",
    "\n",
    "def create_doctor_chatbot():\n",
    "    \"\"\"Initializes the Gemini doctor chatbot model.\"\"\"\n",
    "    generation_config = {\n",
    "        \"temperature\": 0.8,\n",
    "        \"top_p\": 0.9,\n",
    "        \"top_k\": 40,\n",
    "        \"max_output_tokens\": 600,\n",
    "        \"response_mime_type\": \"text/plain\",\n",
    "    }\n",
    "\n",
    "    model = genai.GenerativeModel(\n",
    "        model_name=\"gemini-2.0-flash-exp\",\n",
    "        generation_config=generation_config,\n",
    "        system_instruction=\"Act as a highly knowledgeable health expert and doctor. Only provide medical advice based on patient symptoms, diagnoses, and relevant health topics. Refuse to engage in any non-medical conversations.\"    )\n",
    "    return model\n",
    "\n",
    "def start_chat_session(model):\n",
    "    \"\"\"Starts a chat session with a predefined greeting.\"\"\"\n",
    "    return model.start_chat(history=[\n",
    "        {\"role\": \"user\", \"parts\": [\"hi\"]},\n",
    "        {\"role\": \"model\", \"parts\": [\n",
    "            \"Hello! I'm here to help. Please describe your symptoms in detail so I can assist you.\"\n",
    "        ]}\n",
    "    ])\n",
    "\n",
    "def get_diagnosis(chat_session, user_input):\n",
    "    \"\"\"Sends user input to the chatbot and retrieves the response.\"\"\"\n",
    "    if not user_input.strip():\n",
    "        return \"Please provide valid symptoms.\"\n",
    "    try:\n",
    "        response = chat_session.send_message(user_input)\n",
    "        return response.text\n",
    "    except Exception as e:\n",
    "        return f\"An error occurred: {str(e)}\"\n",
    "\n",
    "def main():\n",
    "    \"\"\"Main function to interact with the chatbot.\"\"\"\n",
    "    model = create_doctor_chatbot()\n",
    "    chat_session = start_chat_session(model)\n",
    "\n",
    "    # Example user input\n",
    "    user_input = \"I have a headache and flu, what could be the issue?\"\n",
    "    diagnosis = get_diagnosis(chat_session, user_input)\n",
    "    print(\"Doctor Chatbot Response:\\n\", diagnosis)\n",
    "\n",
    "if __name__ == \"__main__\":\n",
    "    main()\n"
   ]
  },
  {
   "cell_type": "code",
   "execution_count": null,
   "metadata": {
    "colab": {
     "base_uri": "https://localhost:8080/"
    },
    "id": "KCtAH-V4N9fH",
    "outputId": "e0993e8e-95da-4b00-ca31-33eb975fb9a2"
   },
   "outputs": [],
   "source": [
    "# !pip install gradio"
   ]
  },
  {
   "cell_type": "code",
   "execution_count": null,
   "metadata": {
    "colab": {
     "base_uri": "https://localhost:8080/",
     "height": 645
    },
    "id": "jUMR5FlJEBDY",
    "outputId": "13599053-1706-4b40-8c79-243e9dbfc4fb"
   },
   "outputs": [
    {
     "name": "stdout",
     "output_type": "stream",
     "text": [
      "* Running on local URL:  http://127.0.0.1:7864\n",
      "\n",
      "To create a public link, set `share=True` in `launch()`.\n"
     ]
    },
    {
     "data": {
      "text/html": [
       "<div><iframe src=\"http://127.0.0.1:7864/\" width=\"100%\" height=\"500\" allow=\"autoplay; camera; microphone; clipboard-read; clipboard-write;\" frameborder=\"0\" allowfullscreen></iframe></div>"
      ],
      "text/plain": [
       "<IPython.core.display.HTML object>"
      ]
     },
     "metadata": {},
     "output_type": "display_data"
    }
   ],
   "source": [
    "import os\n",
    "import google.generativeai as genai\n",
    "import gradio as gr\n",
    "\n",
    "# Load API Key securely\n",
    "API_KEY = 'your_api_key_here'\n",
    "if not API_KEY:\n",
    "    raise ValueError(\"API key not found. Please set the 'GEMINI_API_KEY' environment variable.\")\n",
    "\n",
    "# Configure Gemini API\n",
    "genai.configure(api_key=API_KEY)\n",
    "\n",
    "def create_doctor_chatbot():\n",
    "    \"\"\"Initializes the Gemini doctor chatbot model.\"\"\"\n",
    "    generation_config = {\n",
    "        \"temperature\": 0.8,\n",
    "        \"top_p\": 0.9,\n",
    "        \"top_k\": 40,\n",
    "        \"max_output_tokens\": 600,\n",
    "        \"response_mime_type\": \"text/plain\",\n",
    "    }\n",
    "\n",
    "    model = genai.GenerativeModel(\n",
    "        model_name=\"gemini-2.0-flash-exp\",\n",
    "        generation_config=generation_config,\n",
    "        system_instruction=\"Act as a highly knowledgeable health expert and doctor. classfiy what the patient has based on the input, patient symptoms, diagnoses, and relevant health topics. Refuse to engage in any non-medical conversations.and If the disease not dangerous make the response less words\"    )\n",
    "    return model\n",
    "\n",
    "# Initialize model and session once\n",
    "model = create_doctor_chatbot()\n",
    "chat_session = model.start_chat(history=[\n",
    "    {\"role\": \"user\", \"parts\": [\"hi\"]},\n",
    "    {\"role\": \"model\", \"parts\": [\n",
    "        \"Hello! I'm here to help. Please describe your symptoms in detail so I can assist you.\"\n",
    "    ]}\n",
    "])\n",
    "\n",
    "def diagnose(symptoms):\n",
    "    \"\"\"Gradio-compatible function to get diagnosis.\"\"\"\n",
    "    if not symptoms.strip():\n",
    "        return \"Please provide valid symptoms.\"\n",
    "    try:\n",
    "        response = chat_session.send_message(symptoms)\n",
    "        return response.text\n",
    "    except Exception as e:\n",
    "        return f\"An error occurred: {str(e)}\"\n",
    "\n",
    "# Gradio UI setup\n",
    "iface = gr.Interface(\n",
    "    fn=diagnose,\n",
    "    inputs=gr.Textbox(lines=5, placeholder=\"Describe your symptoms...\"),\n",
    "    outputs=gr.Textbox(label=\"Diagnosis\"),\n",
    "    title=\"Doctor Chatbot\",\n",
    "    description=\"Enter your symptoms to get a possible diagnosis and medical advice.\"\n",
    ")\n",
    "\n",
    "# Launch the Gradio app\n",
    "if __name__ == \"__main__\":\n",
    "    iface.launch()\n"
   ]
  },
  {
   "cell_type": "markdown",
   "metadata": {},
   "source": [
    "I've been feeling nauseous and dizzy, what could be causing this?\n",
    " Symptom Details:\n",
    "\n",
    "I've been feeling this way for about four days now. Along with the dizziness and nausea, I've also had a mild headache and some fatigue. I haven't started any new medications recently, and I haven't had any head injuries. Also, I'm not pregnant.\"\n",
    "\n",
    "----------------------------------------------------------\n",
    "Flu Symptoms:\n",
    "- **Fever:** Yes, I have a fever. My temperature was 38.5°C (101.3°F) last time I checked.  \n",
    "- **Body Aches:** Yes, I feel muscle pain all over, especially in my back and legs.  \n",
    "- **Cough:** I have a dry cough, but it’s not very frequent.  \n",
    "- **Sore Throat:** Yes, my throat feels sore, especially when I swallow.  \n",
    "- **Nasal Congestion:** Yes, my nose is stuffy, and I also have a mild runny nose.  \n",
    "- **Duration of Symptoms:** These symptoms started about three days ago.\n"
   ]
  },
  {
   "cell_type": "code",
   "execution_count": null,
   "metadata": {},
   "outputs": [
    {
     "name": "stdout",
     "output_type": "stream",
     "text": [
      "Doctor Chatbot Response:\n",
      " Nausea and dizziness can stem from various causes. Some possibilities include:\n",
      "\n",
      "*   **Inner ear problems:** Such as vertigo or labyrinthitis.\n",
      "*   **Dehydration:** Not drinking enough fluids can lead to these symptoms.\n",
      "*   **Low blood sugar:** Especially if you haven't eaten recently.\n",
      "*   **Migraines:** These can sometimes cause nausea and dizziness.\n",
      "*   **Medication side effects:** Some medications can induce these symptoms.\n",
      "*   **Infections:** Such as a viral illness or ear infection.\n",
      "*   **Anxiety:** Can sometimes manifest as physical symptoms like nausea and dizziness.\n",
      "\n",
      "To help me narrow down the potential cause, could you tell me:\n",
      "\n",
      "*   How long have you been experiencing these symptoms?\n",
      "*   Are there any other symptoms you're experiencing?\n",
      "*   Have you recently started any new medications?\n",
      "*   Have you experienced any recent head injuries?\n",
      "*   Are you pregnant?\n",
      "\n",
      "This information will help me better assess the situation.\n",
      "\n"
     ]
    }
   ],
   "source": [
    "import os\n",
    "import google.generativeai as genai\n",
    "\n",
    "# Load API Key securely\n",
    "API_KEY = 'your_api_key_here'\n",
    "if not API_KEY:\n",
    "    raise ValueError(\"API key not found. Please set the 'GEMINI_API_KEY' environment variable.\")\n",
    "\n",
    "# Configure Gemini API\n",
    "genai.configure(api_key=API_KEY)\n",
    "\n",
    "def create_health_expert_chatbot():\n",
    "    \"\"\"Initializes the Gemini health expert chatbot model.\"\"\"\n",
    "    generation_config = {\n",
    "        \"temperature\": 0.8,\n",
    "        \"top_p\": 0.9,\n",
    "        \"top_k\": 40,\n",
    "        \"max_output_tokens\": 600,\n",
    "        \"response_mime_type\": \"text/plain\",\n",
    "    }\n",
    "\n",
    "    # Customizing the model for health-related queries only\n",
    "    model = genai.GenerativeModel(\n",
    "        model_name=\"gemini-2.0-flash-exp\",\n",
    "        generation_config=generation_config,\n",
    "        system_instruction=\"Act as a highly knowledgeable health expert and doctor. classfiy what the patient has based on the input, patient symptoms, diagnoses, and relevant health topics. Refuse to engage in any non-medical conversations.and If the disease not dangerous make the response less words\"\n",
    "    )\n",
    "    return model\n",
    "\n",
    "def start_health_chat_session(model):\n",
    "    \"\"\"Starts a health-focused chat session with a greeting.\"\"\"\n",
    "    return model.start_chat(history=[ \n",
    "        {\"role\": \"user\", \"parts\": [\"Hi, doctor.\"]},\n",
    "        {\"role\": \"model\", \"parts\": [\n",
    "            \"Hello! I am here to help with any health concerns. Please describe your symptoms or medical issue, and I will assist you.\"\n",
    "        ]}\n",
    "    ])\n",
    "\n",
    "def get_health_diagnosis(chat_session, user_input):\n",
    "    \"\"\"Sends user input to the chatbot and retrieves a health-related response.\"\"\"\n",
    "    if not user_input.strip():\n",
    "        return \"Please describe your symptoms clearly so I can provide accurate advice.\"\n",
    "    try:\n",
    "        response = chat_session.send_message(user_input)\n",
    "        return response.text\n",
    "    except Exception as e:\n",
    "        return f\"An error occurred: {str(e)}\"\n",
    "\n",
    "def main():\n",
    "    \"\"\"Main function to interact with the health expert chatbot.\"\"\"\n",
    "    model = create_health_expert_chatbot()\n",
    "    chat_session = start_health_chat_session(model)\n",
    "    \n",
    "    # Example user input\n",
    "    user_input = \"I've been feeling nauseous and dizzy, what could be causing this?\"\n",
    "    diagnosis = get_health_diagnosis(chat_session, user_input)\n",
    "    print(\"Doctor Chatbot Response:\\n\", diagnosis)\n",
    "\n",
    "if __name__ == \"__main__\":\n",
    "    main()\n"
   ]
  },
  {
   "cell_type": "code",
   "execution_count": null,
   "metadata": {},
   "outputs": [],
   "source": []
  }
 ],
 "metadata": {
  "colab": {
   "collapsed_sections": [
    "Tce3stUlHN0L"
   ],
   "name": "aistudio_gemini_prompt_freeform_nofiles.ipynb",
   "provenance": []
  },
  "kernelspec": {
   "display_name": "Python 3",
   "language": "python",
   "name": "python3"
  },
  "language_info": {
   "codemirror_mode": {
    "name": "ipython",
    "version": 3
   },
   "file_extension": ".py",
   "mimetype": "text/x-python",
   "name": "python",
   "nbconvert_exporter": "python",
   "pygments_lexer": "ipython3",
   "version": "3.12.6"
  }
 },
 "nbformat": 4,
 "nbformat_minor": 4
}
